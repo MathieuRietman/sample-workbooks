{
 "cells": [
  {
   "cell_type": "code",
   "execution_count": 3,
   "metadata": {},
   "outputs": [
    {
     "name": "stdout",
     "output_type": "stream",
     "text": [
      "  _    _      _ _                            _     _ _ \n",
      " | |  | |    | | |                          | |   | | |\n",
      " | |__| | ___| | | ___   __      _____  _ __| | __| | |\n",
      " |  __  |/ _ \\ | |/ _ \\  \\ \\ /\\ / / _ \\| '__| |/ _` | |\n",
      " | |  | |  __/ | | (_) |  \\ V  V / (_) | |  | | (_| |_|\n",
      " |_|  |_|\\___|_|_|\\___/    \\_/\\_/ \\___/|_|  |_|\\__,_(_)\n",
      "                                                       \n",
      "                                                       \n"
     ]
    }
   ],
   "source": [
    "$text = [System.Uri]::EscapeDataString('Hello world!')\r\n",
    "$url = \"https://artii.herokuapp.com/make?text=$text&font=big\"\r\n",
    "Invoke-RestMethod $url -DisableKeepAlive"
   ]
  },
  {
   "cell_type": "code",
   "execution_count": null,
   "metadata": {},
   "outputs": [],
   "source": []
  }
 ],
 "metadata": {
  "kernelspec": {
   "display_name": ".NET (PowerShell)",
   "language": "PowerShell",
   "name": ".net-powershell"
  },
  "language_info": {
   "file_extension": ".ps1",
   "mimetype": "text/x-powershell",
   "name": "PowerShell",
   "pygments_lexer": "powershell",
   "version": "7.0"
  }
 },
 "nbformat": 4,
 "nbformat_minor": 4
}
