{
 "cells": [
  {
   "cell_type": "code",
   "execution_count": null,
   "source": [
    "$text = [System.Uri]::EscapeDataString('Hello tt!')\r\n",
    "$url = \"https://artii.herokuapp.com/make?text=$text&font=big\"\r\n",
    "Invoke-RestMethod $url -DisableKeepAlive"
   ],
   "outputs": [],
   "metadata": {}
  }
 ],
 "metadata": {
  "orig_nbformat": 4,
  "language_info": {
   "name": "powershell"
  },
  "kernelspec": {
   "name": "powershell",
   "display_name": "PowerShell"
  }
 },
 "nbformat": 4,
 "nbformat_minor": 2
}